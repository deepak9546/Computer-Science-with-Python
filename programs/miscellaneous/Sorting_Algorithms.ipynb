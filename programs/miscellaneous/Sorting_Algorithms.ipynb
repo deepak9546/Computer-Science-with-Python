{
 "cells": [
  {
   "cell_type": "code",
   "execution_count": 1,
   "metadata": {},
   "outputs": [
    {
     "name": "stdout",
     "output_type": "stream",
     "text": [
      "[2, 6, 11, 19, 27, 31, 45, 121]\n"
     ]
    }
   ],
   "source": [
    "#### Bubble Sort ###\n",
    "'''Key Concept: each pair of adjacent elements is compared and the elements are swapped if they are not in order.'''\n",
    "\n",
    "def bubblesort(unsorted_list):       #function for bubble sort which takes list as parameter\n",
    "    for iter_num in range(len(unsorted_list)-1,0,-1):\n",
    "        for idx in range(iter_num):\n",
    "            if unsorted_list[idx]>unsorted_list[idx+1]:\n",
    "                temp = unsorted_list[idx]\n",
    "                unsorted_list[idx] = unsorted_list[idx+1]\n",
    "                unsorted_list[idx+1] = temp\n",
    "\n",
    "\n",
    "given_list = [19,2,31,45,6,11,121,27]   #given list  \n",
    "bubblesort(given_list)           #calling sorting funtion\n",
    "print(given_list)                #sorted List"
   ]
  },
  {
   "cell_type": "code",
   "execution_count": 2,
   "metadata": {},
   "outputs": [
    {
     "name": "stdout",
     "output_type": "stream",
     "text": [
      "[11, 12, 22, 25, 34, 64, 90]\n"
     ]
    }
   ],
   "source": [
    "### Merge Sort ###\n",
    "'''Key Concept: Merge sort first divides the array into equal halves and then combines them in a sorted manner.'''\n",
    "\n",
    "def merge_sort(unsorted_list):     #function for Merge sort which takes list as parameter\n",
    "    if len(unsorted_list) <= 1:\n",
    "        return unsorted_list\n",
    "# Find the middle point and devide the list\n",
    "    middle = len(unsorted_list) // 2\n",
    "    left_list = unsorted_list[:middle]\n",
    "    right_list = unsorted_list[middle:]\n",
    "\n",
    "    left_list = merge_sort(left_list)\n",
    "    right_list = merge_sort(right_list)\n",
    "    return list(merge(left_list, right_list))\n",
    "\n",
    "# Merge the sorted halves\n",
    "\n",
    "def merge(left_half,right_half):\n",
    "\n",
    "    res = []\n",
    "    while len(left_half) != 0 and len(right_half) != 0:\n",
    "        if left_half[0] < right_half[0]:\n",
    "            res.append(left_half[0])\n",
    "            left_half.remove(left_half[0])\n",
    "        else:\n",
    "            res.append(right_half[0])\n",
    "            right_half.remove(right_half[0])\n",
    "    if len(left_half) == 0:\n",
    "        res = res + right_half\n",
    "    else:\n",
    "        res = res + left_half\n",
    "    return res\n",
    "\n",
    "unsorted_list = [64, 34, 25, 12, 22, 11, 90]   #given unsorted list\n",
    "\n",
    "print(merge_sort(unsorted_list))    #function called in print to get direct output "
   ]
  },
  {
   "cell_type": "code",
   "execution_count": 3,
   "metadata": {},
   "outputs": [
    {
     "name": "stdout",
     "output_type": "stream",
     "text": [
      "[2, 11, 19, 27, 30, 31, 45, 121]\n"
     ]
    }
   ],
   "source": [
    "### Insertion Sort ###\n",
    "'''Insertion sort involves finding the right place for a given element in a sorted list.\n",
    "    So in beginning we compare the first two elements and sort them by comparing them.\n",
    "    Then we pick the third element and find its proper position among the previous two sorted elements.'''\n",
    "\n",
    "def insertion_sort(InputList):\n",
    "    for i in range(1, len(InputList)):\n",
    "        j = i-1\n",
    "        nxt_element = InputList[i]\n",
    "# Compare the current element with next one\n",
    "        while (InputList[j] > nxt_element) and (j >= 0):\n",
    "            InputList[j+1] = InputList[j]\n",
    "            j=j-1\n",
    "        InputList[j+1] = nxt_element\n",
    "        \n",
    "\n",
    "unsorted_list = [19,2,31,45,30,11,121,27]   #given unsorted list\n",
    "insertion_sort(unsorted_list)               #funtion call\n",
    "print(unsorted_list)                #sorted list "
   ]
  },
  {
   "cell_type": "code",
   "execution_count": 4,
   "metadata": {},
   "outputs": [
    {
     "name": "stdout",
     "output_type": "stream",
     "text": [
      "[2, 11, 19, 27, 30, 31, 45, 121]\n"
     ]
    }
   ],
   "source": [
    "### Shell Sort ###\n",
    "'''Shell Sort involves sorting elements which are away from ech other. \n",
    "We sort a large sublist of a given list and go on reducing the size of the list until all elements are sorted.'''\n",
    "\n",
    "def shellSort(input_list):\n",
    "    gap = len(input_list) // 2\n",
    "    while gap > 0:\n",
    "        for i in range(gap, len(input_list)):\n",
    "            temp = input_list[i]\n",
    "            j = i\n",
    "# Sort the sub list for this gap\n",
    "            while j >= gap and input_list[j - gap] > temp:\n",
    "                input_list[j] = input_list[j - gap]\n",
    "                j = j-gap\n",
    "            input_list[j] = temp\n",
    "# Reduce the gap for the next element\n",
    "        gap = gap//2\n",
    "\n",
    "    \n",
    "list = [19,2,31,45,30,11,121,27]      #given unsorted list\n",
    "shellSort(list)                       #funtion call\n",
    "print(list)"
   ]
  },
  {
   "cell_type": "code",
   "execution_count": 5,
   "metadata": {},
   "outputs": [
    {
     "name": "stdout",
     "output_type": "stream",
     "text": [
      "[2, 11, 19, 27, 30, 31, 45, 121]\n"
     ]
    }
   ],
   "source": [
    "### Selection sort ###\n",
    "'''In selection sort we start by finding the minimum value in a given list and move it to a sorted list.\n",
    "    Then we repeat the process for each of the remaining elements in the unsorted list.\n",
    "    The next element entering the sorted list is compared with the existing elements and placed at its correct position.\n",
    "    So at the end all the elements from the unsorted list are sorted.'''\n",
    "\n",
    "def selection_sort(input_list):\n",
    "    for idx in range(len(input_list)):\n",
    "        min_idx = idx\n",
    "        for j in range( idx +1, len(input_list)):\n",
    "            if input_list[min_idx] > input_list[j]:\n",
    "                min_idx = j\n",
    "# Swap the minimum value with the compared value\n",
    "        input_list[idx], input_list[min_idx] = input_list[min_idx], input_list[idx]\n",
    "\n",
    "\n",
    "l = [19,2,31,45,30,11,121,27]      #given unsorted list\n",
    "selection_sort(l)                  #funtion call\n",
    "print(l)"
   ]
  }
 ],
 "metadata": {
  "kernelspec": {
   "display_name": "Python 3",
   "language": "python",
   "name": "python3"
  },
  "language_info": {
   "codemirror_mode": {
    "name": "ipython",
    "version": 3
   },
   "file_extension": ".py",
   "mimetype": "text/x-python",
   "name": "python",
   "nbconvert_exporter": "python",
   "pygments_lexer": "ipython3",
   "version": "3.7.4"
  }
 },
 "nbformat": 4,
 "nbformat_minor": 2
}
