{
 "cells": [
  {
   "cell_type": "markdown",
   "metadata": {},
   "source": [
    "# Modules and More about the Functions"
   ]
  },
  {
   "cell_type": "markdown",
   "metadata": {},
   "source": [
    "## Modules in Python\n",
    "\n",
    "**Modules** are just the python programs including various _functions_, _classes_ and many other kinda _definations_. <br />\n",
    "\n",
    "Alone, they don't play any majour role. But, the modules are necessary when we wish to use the _functions_ or any other defination decleared in it. Inthis way, a python module provides a **modularity**. <br /><br />\n",
    "\n",
    "A python module as also saved as a normal python program i.e. with the extention ``` .py ``` and are imported using ``` import ``` keyword."
   ]
  },
  {
   "cell_type": "markdown",
   "metadata": {},
   "source": [
    "<br /><br />\n",
    "\n",
    "\n",
    "### Importing from same dir."
   ]
  },
  {
   "cell_type": "markdown",
   "metadata": {},
   "source": [
    "### A Python Mdule to Pint a Wlcome Mssage\n",
    "\n",
    "<br /> ASSUMING FOLLOWING BE THE MODULE ```hello.py```, PLACED IN THE CURRENT DIRECTORY <br />\n",
    "\n",
    "```\n",
    "\n",
    "def greet():\n",
    "    print(\"Hey there!! Welcome to the Python Modules!\")\n",
    "    \n",
    "```\n",
    "\n",
    "<br /><br />"
   ]
  },
  {
   "cell_type": "code",
   "execution_count": 1,
   "metadata": {},
   "outputs": [],
   "source": [
    "# importing the module\n",
    "import hello as greetings"
   ]
  },
  {
   "cell_type": "code",
   "execution_count": 2,
   "metadata": {},
   "outputs": [
    {
     "name": "stdout",
     "output_type": "stream",
     "text": [
      "Hey there!! Welcome to the Python Modules!\n"
     ]
    }
   ],
   "source": [
    "# calling the function from module\n",
    "greetings.greet()"
   ]
  },
  {
   "cell_type": "markdown",
   "metadata": {},
   "source": [
    "<br /><br />\n",
    "\n",
    "\n",
    "### Importing from external/another dir."
   ]
  },
  {
   "cell_type": "code",
   "execution_count": 3,
   "metadata": {},
   "outputs": [],
   "source": [
    "import sys\n",
    "sys.path.append('../dependancies/modules/')"
   ]
  },
  {
   "cell_type": "code",
   "execution_count": 4,
   "metadata": {},
   "outputs": [
    {
     "name": "stdout",
     "output_type": "stream",
     "text": [
      "Hey there!! Welcome to the Python Modules!\n"
     ]
    }
   ],
   "source": [
    "import welcome\n",
    "welcome.greeting()"
   ]
  },
  {
   "cell_type": "code",
   "execution_count": 5,
   "metadata": {},
   "outputs": [
    {
     "name": "stdout",
     "output_type": "stream",
     "text": [
      "Hello World!!\n"
     ]
    }
   ],
   "source": [
    "welcome.name = welcome.setName()\n",
    "welcome.msg(welcome.name)"
   ]
  },
  {
   "cell_type": "code",
   "execution_count": 6,
   "metadata": {},
   "outputs": [
    {
     "name": "stdout",
     "output_type": "stream",
     "text": [
      "Hello Ravi!!\n"
     ]
    }
   ],
   "source": [
    "welcome.name = welcome.setName(\"Ravi\")\n",
    "welcome.msg(welcome.name)"
   ]
  },
  {
   "cell_type": "markdown",
   "metadata": {},
   "source": [
    "---\n",
    "<br /><br />"
   ]
  },
  {
   "cell_type": "markdown",
   "metadata": {},
   "source": [
    "# Exercise"
   ]
  },
  {
   "cell_type": "markdown",
   "metadata": {},
   "source": [
    "### 1. Module to find **sum** & **product**"
   ]
  },
  {
   "cell_type": "code",
   "execution_count": 7,
   "metadata": {},
   "outputs": [],
   "source": [
    "import basicMath as m"
   ]
  },
  {
   "cell_type": "code",
   "execution_count": 8,
   "metadata": {},
   "outputs": [
    {
     "name": "stdout",
     "output_type": "stream",
     "text": [
      "2 + 3 =  5\n"
     ]
    }
   ],
   "source": [
    "print(\"2 + 3 = \",m.sum(2,3))"
   ]
  },
  {
   "cell_type": "code",
   "execution_count": 9,
   "metadata": {},
   "outputs": [
    {
     "name": "stdout",
     "output_type": "stream",
     "text": [
      "2 X 3 =  6\n"
     ]
    }
   ],
   "source": [
    "print(\"2 X 3 = \",m.product(2,3))"
   ]
  },
  {
   "cell_type": "markdown",
   "metadata": {},
   "source": [
    "<br /><br />"
   ]
  },
  {
   "cell_type": "markdown",
   "metadata": {},
   "source": [
    "### 2. Python function to identify a leap year"
   ]
  },
  {
   "cell_type": "code",
   "execution_count": 10,
   "metadata": {},
   "outputs": [],
   "source": [
    "def isLeap(year):\n",
    "    flag = False\n",
    "    if year%100 == 0 and year%400 == 0:\n",
    "        flag = True\n",
    "    elif year%100 != 0 and year%4 == 0:\n",
    "        flag = True\n",
    "\n",
    "    return flag"
   ]
  },
  {
   "cell_type": "code",
   "execution_count": 11,
   "metadata": {},
   "outputs": [
    {
     "name": "stdout",
     "output_type": "stream",
     "text": [
      "2020 is a leap year!\n"
     ]
    }
   ],
   "source": [
    "if(isLeap(2020)):\n",
    "    print(\"2020 is a leap year!\")\n",
    "else:\n",
    "    print(\"2020 is NOT a leap year!\")"
   ]
  },
  {
   "cell_type": "code",
   "execution_count": 12,
   "metadata": {},
   "outputs": [
    {
     "name": "stdout",
     "output_type": "stream",
     "text": [
      "True\n",
      "True\n",
      "False\n",
      "False\n"
     ]
    }
   ],
   "source": [
    "## True = Leap year  |   False = NOT Leap year\n",
    "\n",
    "print(isLeap(1992))\n",
    "print(isLeap(2000))\n",
    "print(isLeap(1900))\n",
    "print(isLeap(2100))"
   ]
  },
  {
   "cell_type": "markdown",
   "metadata": {},
   "source": [
    "<br /><br />"
   ]
  },
  {
   "cell_type": "markdown",
   "metadata": {},
   "source": [
    "### 3. Local VS Global variables in python"
   ]
  },
  {
   "cell_type": "code",
   "execution_count": 13,
   "metadata": {},
   "outputs": [
    {
     "name": "stdout",
     "output_type": "stream",
     "text": [
      "Hey Myname !!\n"
     ]
    }
   ],
   "source": [
    "# if there is only a Global variable with a name, \n",
    "    # it's value is used everywhere in the module/program\n",
    "\n",
    "name = \"Myname\"\n",
    "\n",
    "def caller():\n",
    "    print(\"Hey\",name, \"!!\")\n",
    "    \n",
    "caller()"
   ]
  },
  {
   "cell_type": "code",
   "execution_count": 14,
   "metadata": {},
   "outputs": [
    {
     "name": "stdout",
     "output_type": "stream",
     "text": [
      "Hey Myname !!\n"
     ]
    }
   ],
   "source": [
    "# if there is only a Local variable with a name, \n",
    "    # it's value is used everywhere wuthin that particular function / class\n",
    "\n",
    "def caller():\n",
    "    name = \"Myname\"\n",
    "    print(\"Hey\",name, \"!!\")\n",
    "    \n",
    "caller()"
   ]
  },
  {
   "cell_type": "code",
   "execution_count": 15,
   "metadata": {},
   "outputs": [
    {
     "name": "stdout",
     "output_type": "stream",
     "text": [
      "My name  is not 'Myname'!!\n",
      "My name\n"
     ]
    }
   ],
   "source": [
    "# if there are 2 or more variable with same name, (including Global and Local(s), both)\n",
    "    # keyword 'global' is used to call the global variable\n",
    "\n",
    "name = \"Myname\"\n",
    "\n",
    "def caller():\n",
    "    global name\n",
    "    name = \"My name\"  # this would change the global variable's value\n",
    "    print(name,\" is not 'Myname'!!\")\n",
    "    \n",
    "caller()\n",
    "print(name)"
   ]
  },
  {
   "cell_type": "markdown",
   "metadata": {},
   "source": [
    "<br /><br />"
   ]
  },
  {
   "cell_type": "markdown",
   "metadata": {},
   "source": [
    "### 4. Module to find pow(x,n)"
   ]
  },
  {
   "cell_type": "code",
   "execution_count": 16,
   "metadata": {},
   "outputs": [],
   "source": [
    "import power"
   ]
  },
  {
   "cell_type": "code",
   "execution_count": 17,
   "metadata": {},
   "outputs": [
    {
     "data": {
      "text/plain": [
       "1024"
      ]
     },
     "execution_count": 17,
     "metadata": {},
     "output_type": "execute_result"
    }
   ],
   "source": [
    "power.pow(2, 10)"
   ]
  },
  {
   "cell_type": "markdown",
   "metadata": {},
   "source": [
    "<br /><br />"
   ]
  },
  {
   "cell_type": "markdown",
   "metadata": {},
   "source": [
    "### 5. Create roll_D(noOfSides, noOfDice) and generate random roll values"
   ]
  },
  {
   "cell_type": "code",
   "execution_count": 18,
   "metadata": {},
   "outputs": [],
   "source": [
    "# since default arguments can only come after defaults, \n",
    "# making both the arguments default in order to maintain the order\n",
    "\n",
    "import random as rand\n",
    "\n",
    "def roll_D(noOfSides = 6, noOfDice = 1):\n",
    "    roll = 1\n",
    "    while roll <= noOfDice:\n",
    "        outcome = rand.randint(1,noOfSides)\n",
    "        print(outcome)\n",
    "        roll += 1\n",
    "    print(\"That's all\")"
   ]
  },
  {
   "cell_type": "markdown",
   "metadata": {},
   "source": [
    "#### Checking for given condition i.e. (6,3)"
   ]
  },
  {
   "cell_type": "code",
   "execution_count": 19,
   "metadata": {},
   "outputs": [
    {
     "name": "stdout",
     "output_type": "stream",
     "text": [
      "2\n",
      "4\n",
      "4\n",
      "That's all\n"
     ]
    }
   ],
   "source": [
    "roll_D(6,3) # 3 dice with 6 faces, each"
   ]
  },
  {
   "cell_type": "markdown",
   "metadata": {},
   "source": [
    "<br /><br />\n",
    "\n",
    "#### Some othe examples"
   ]
  },
  {
   "cell_type": "code",
   "execution_count": 20,
   "metadata": {},
   "outputs": [
    {
     "name": "stdout",
     "output_type": "stream",
     "text": [
      "6\n",
      "That's all\n"
     ]
    }
   ],
   "source": [
    "roll_D() # one die with 6 faces"
   ]
  },
  {
   "cell_type": "code",
   "execution_count": 21,
   "metadata": {},
   "outputs": [
    {
     "name": "stdout",
     "output_type": "stream",
     "text": [
      "1\n",
      "That's all\n"
     ]
    }
   ],
   "source": [
    "roll_D(8) # one die with 8 faces"
   ]
  },
  {
   "cell_type": "code",
   "execution_count": 22,
   "metadata": {},
   "outputs": [
    {
     "name": "stdout",
     "output_type": "stream",
     "text": [
      "3\n",
      "5\n",
      "That's all\n"
     ]
    }
   ],
   "source": [
    "roll_D(noOfDice = 2) # 2 dice with 6 faces, each"
   ]
  },
  {
   "cell_type": "code",
   "execution_count": 23,
   "metadata": {},
   "outputs": [
    {
     "name": "stdout",
     "output_type": "stream",
     "text": [
      "6\n",
      "4\n",
      "2\n",
      "That's all\n"
     ]
    }
   ],
   "source": [
    "roll_D(7,3) # 3 dice with 7 faces, each"
   ]
  },
  {
   "cell_type": "markdown",
   "metadata": {},
   "source": [
    "<br /><br />"
   ]
  },
  {
   "cell_type": "markdown",
   "metadata": {},
   "source": [
    "### 6. Prime / Non-Prime Function"
   ]
  },
  {
   "cell_type": "code",
   "execution_count": 24,
   "metadata": {},
   "outputs": [],
   "source": [
    "def isPrime(num):\n",
    "    if num == 2 or num == 3:\n",
    "        flag = True\n",
    "    elif num%2 != 0:\n",
    "        for i in range(3, int(num/2)):\n",
    "            if num%i != 0:\n",
    "                flag = True\n",
    "                continue\n",
    "            else:\n",
    "                flag = False\n",
    "                break\n",
    "    else:\n",
    "        flag = False\n",
    "        \n",
    "    return flag"
   ]
  },
  {
   "cell_type": "code",
   "execution_count": 25,
   "metadata": {},
   "outputs": [
    {
     "name": "stdout",
     "output_type": "stream",
     "text": [
      "8 is NOT Prime\n"
     ]
    }
   ],
   "source": [
    "num = 8\n",
    "\n",
    "if(isPrime(num)):\n",
    "    print(num,\"is Prime\")\n",
    "else:\n",
    "    print(num,\"is NOT Prime\")"
   ]
  },
  {
   "cell_type": "code",
   "execution_count": 26,
   "metadata": {},
   "outputs": [
    {
     "name": "stdout",
     "output_type": "stream",
     "text": [
      "13 is Prime\n"
     ]
    }
   ],
   "source": [
    "num = 13\n",
    "\n",
    "if(isPrime(num)):\n",
    "    print(num,\"is Prime\")\n",
    "else:\n",
    "    print(num,\"is NOT Prime\")"
   ]
  },
  {
   "cell_type": "markdown",
   "metadata": {},
   "source": [
    "### Sum of square of first and last 2 digits"
   ]
  },
  {
   "cell_type": "code",
   "execution_count": 27,
   "metadata": {},
   "outputs": [],
   "source": [
    "def void(num):\n",
    "    if num not in range(1000,9999):\n",
    "        return -1\n",
    "    else:\n",
    "        first = int(num/100)\n",
    "        last = num%100\n",
    "        return first**2 + last**2\n",
    "        "
   ]
  },
  {
   "cell_type": "code",
   "execution_count": 28,
   "metadata": {},
   "outputs": [
    {
     "name": "stdout",
     "output_type": "stream",
     "text": [
      "Invalid input!!\n"
     ]
    }
   ],
   "source": [
    "num = 235\n",
    "\n",
    "res = void(num)\n",
    "if res == -1:\n",
    "    print(\"Invalid input!!\")\n",
    "else:\n",
    "    print(\"Calculated result: \",res)"
   ]
  },
  {
   "cell_type": "code",
   "execution_count": 29,
   "metadata": {},
   "outputs": [
    {
     "name": "stdout",
     "output_type": "stream",
     "text": [
      "Calculated result:  754\n"
     ]
    }
   ],
   "source": [
    "num = 2315\n",
    "\n",
    "res = void(num)\n",
    "if res == -1:\n",
    "    print(\"Invalid input!!\")\n",
    "else:\n",
    "    print(\"Calculated result: \",res)"
   ]
  },
  {
   "cell_type": "markdown",
   "metadata": {},
   "source": [
    "<br /><br />\n",
    "\n",
    "### Check for Vowel"
   ]
  },
  {
   "cell_type": "code",
   "execution_count": 30,
   "metadata": {},
   "outputs": [],
   "source": [
    "def isVowel(char):\n",
    "    vowels = ['a','e','i','o','u','A','E','I','O','U']\n",
    "    flag = False\n",
    "    \n",
    "    if char in vowels:\n",
    "        flag = True\n",
    "    \n",
    "    return flag"
   ]
  },
  {
   "cell_type": "code",
   "execution_count": 31,
   "metadata": {},
   "outputs": [
    {
     "name": "stdout",
     "output_type": "stream",
     "text": [
      "True\n",
      "False\n",
      "False\n",
      "True\n"
     ]
    }
   ],
   "source": [
    "# prints True if passed charector is a Vowel\n",
    "print(isVowel('u'))\n",
    "print(isVowel('k'))\n",
    "print(isVowel('m'))\n",
    "print(isVowel('i'))"
   ]
  },
  {
   "cell_type": "markdown",
   "metadata": {},
   "source": [
    "### Mersenne NUmber"
   ]
  },
  {
   "cell_type": "code",
   "execution_count": 1,
   "metadata": {},
   "outputs": [
    {
     "name": "stdout",
     "output_type": "stream",
     "text": [
      "Enter the number: 5\n"
     ]
    }
   ],
   "source": [
    "# declearing fun.\n",
    "def mersenne(num):\n",
    "    return 2**num - 1\n",
    "\n",
    "# input the value for number\n",
    "n = input(\"Enter the number: \")"
   ]
  },
  {
   "cell_type": "code",
   "execution_count": 2,
   "metadata": {},
   "outputs": [
    {
     "name": "stdout",
     "output_type": "stream",
     "text": [
      "Mersenne number is:  31\n"
     ]
    }
   ],
   "source": [
    "# the result\n",
    "print(\"Mersenne number is: \",mersenne(int(n)))"
   ]
  },
  {
   "cell_type": "markdown",
   "metadata": {},
   "source": [
    "<br />\n",
    "\n",
    "---\n",
    "\n",
    "<br />"
   ]
  }
 ],
 "metadata": {
  "kernelspec": {
   "display_name": "Python 3",
   "language": "python",
   "name": "python3"
  },
  "language_info": {
   "codemirror_mode": {
    "name": "ipython",
    "version": 3
   },
   "file_extension": ".py",
   "mimetype": "text/x-python",
   "name": "python",
   "nbconvert_exporter": "python",
   "pygments_lexer": "ipython3",
   "version": "3.7.4"
  }
 },
 "nbformat": 4,
 "nbformat_minor": 2
}
