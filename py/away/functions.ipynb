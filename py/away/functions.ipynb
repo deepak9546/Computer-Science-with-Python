{
 "cells": [
  {
   "cell_type": "markdown",
   "metadata": {},
   "source": [
    "<font color=\"gray\">\n",
    "\n",
    "# Basics of Functions in Python\n",
    "</font>"
   ]
  },
  {
   "cell_type": "markdown",
   "metadata": {},
   "source": [
    "### 1. Functions & Their Parts"
   ]
  },
  {
   "cell_type": "code",
   "execution_count": 1,
   "metadata": {},
   "outputs": [],
   "source": [
    "def sub1(a,b):\n",
    "    print(b,\"-\",a,\"=\",b-a)"
   ]
  },
  {
   "cell_type": "markdown",
   "metadata": {},
   "source": [
    "1. **Function Name:** ```sub1```\n",
    "2. **Agruments Required:** ```a``` & ```b``` (2)\n",
    "3. **Number of Statements _(in body)_ :** one (1)\n",
    "4. **Returned Value:** _none_\n",
    "5. **Objective:** it takes 2 arguments and **substracts first** one **from the second** argument"
   ]
  },
  {
   "cell_type": "markdown",
   "metadata": {},
   "source": [
    "---"
   ]
  },
  {
   "cell_type": "code",
   "execution_count": 2,
   "metadata": {},
   "outputs": [],
   "source": [
    "def cube2(x):\n",
    "    x*x*x # a ')' at the end seems to ba a printing mistake\n",
    "    return x*x*x-x"
   ]
  },
  {
   "cell_type": "markdown",
   "metadata": {},
   "source": [
    "1. **Function Name:** ```cube2```\n",
    "2. **Agruments Required:** ```x``` (1)\n",
    "3. **Number of Statements _(in body)_ :** two\n",
    "4. **Returned Value:** result after subtracting a number from its cube\n",
    "5. **Working:** In first statement of the definition, the passed argument/number is multiplied **thrice**. In last statement, the same number is again multiplied thrice and then the it's also subtracted from the resulting product i.e. cube. This final outcome is returned! Here first statement is not very significant."
   ]
  },
  {
   "cell_type": "markdown",
   "metadata": {},
   "source": [
    "---"
   ]
  },
  {
   "cell_type": "code",
   "execution_count": 3,
   "metadata": {},
   "outputs": [],
   "source": [
    "def cube1(x):\n",
    "    return x*x*x"
   ]
  },
  {
   "cell_type": "markdown",
   "metadata": {},
   "source": [
    "1. **Function Name:** ```cube1```\n",
    "2. **Agruments Required:** ```x``` (1)\n",
    "3. **Number of Statements _(in body)_ :** one\n",
    "4. **Returned Value:** cube of a number\n",
    "5. **Objective:** finds the **cube** of a number i.e. passed as argument, by **multiplying it thrice** with itself"
   ]
  },
  {
   "cell_type": "markdown",
   "metadata": {},
   "source": [
    "---"
   ]
  },
  {
   "cell_type": "code",
   "execution_count": 1,
   "metadata": {},
   "outputs": [],
   "source": [
    "def greeting():\n",
    "    print(\"Welcome to Python\")"
   ]
  },
  {
   "cell_type": "markdown",
   "metadata": {},
   "source": [
    "1. **Function Name:** ```greeting```\n",
    "2. **Agruments Required:** none\n",
    "3. **Number of Statements _(in body)_ :** 1\n",
    "4. **Returned Value:** none\n",
    "5. **Objective:** prints a **welcome messege**"
   ]
  },
  {
   "cell_type": "markdown",
   "metadata": {},
   "source": [
    "---\n",
    "<br /><br />"
   ]
  },
  {
   "cell_type": "markdown",
   "metadata": {},
   "source": [
    "### 2. Function Call Statements for Above (4) Definitions"
   ]
  },
  {
   "cell_type": "code",
   "execution_count": 5,
   "metadata": {},
   "outputs": [],
   "source": [
    "## variables, to use\n",
    "\n",
    "x,y = 3,4\n",
    "num = 5"
   ]
  },
  {
   "cell_type": "markdown",
   "metadata": {},
   "source": [
    "#### for sub1()"
   ]
  },
  {
   "cell_type": "code",
   "execution_count": 6,
   "metadata": {},
   "outputs": [
    {
     "name": "stdout",
     "output_type": "stream",
     "text": [
      "4 - 3 = 1\n"
     ]
    }
   ],
   "source": [
    "sub1(x,y) # (h)"
   ]
  },
  {
   "cell_type": "code",
   "execution_count": 7,
   "metadata": {},
   "outputs": [
    {
     "name": "stdout",
     "output_type": "stream",
     "text": [
      "3 - 5 = -2\n"
     ]
    }
   ],
   "source": [
    "sub1(5,3) # (k)"
   ]
  },
  {
   "cell_type": "markdown",
   "metadata": {},
   "source": [
    "#### for cube1()"
   ]
  },
  {
   "cell_type": "code",
   "execution_count": 8,
   "metadata": {},
   "outputs": [
    {
     "data": {
      "text/plain": [
       "27"
      ]
     },
     "execution_count": 8,
     "metadata": {},
     "output_type": "execute_result"
    }
   ],
   "source": [
    "cube1(x) # (i)"
   ]
  },
  {
   "cell_type": "markdown",
   "metadata": {},
   "source": [
    "#### for cube2()"
   ]
  },
  {
   "cell_type": "code",
   "execution_count": 9,
   "metadata": {},
   "outputs": [
    {
     "data": {
      "text/plain": [
       "120"
      ]
     },
     "execution_count": 9,
     "metadata": {},
     "output_type": "execute_result"
    }
   ],
   "source": [
    "cube2(num) # (l)"
   ]
  },
  {
   "cell_type": "markdown",
   "metadata": {},
   "source": [
    "#### for greeting()"
   ]
  },
  {
   "cell_type": "code",
   "execution_count": 10,
   "metadata": {},
   "outputs": [
    {
     "name": "stdout",
     "output_type": "stream",
     "text": [
      "Welcome to Python\n"
     ]
    }
   ],
   "source": [
    "greeting() # (g)"
   ]
  },
  {
   "cell_type": "markdown",
   "metadata": {},
   "source": [
    "---\n",
    "<br /><br />"
   ]
  },
  {
   "cell_type": "markdown",
   "metadata": {},
   "source": [
    "### 3. Few Functions"
   ]
  },
  {
   "cell_type": "code",
   "execution_count": 11,
   "metadata": {},
   "outputs": [],
   "source": [
    "## To return the absolute value for given number\n",
    "\n",
    "def absolute(num):\n",
    "    if num < 0:\n",
    "        num *= -1\n",
    "    return num"
   ]
  },
  {
   "cell_type": "code",
   "execution_count": 12,
   "metadata": {},
   "outputs": [
    {
     "name": "stdout",
     "output_type": "stream",
     "text": [
      "|6|  =   6\n",
      "|-3| =   3\n"
     ]
    }
   ],
   "source": [
    "# using user defined function\n",
    "print(\"|6|  =  \",absolute(6))  # 6\n",
    "print(\"|-3| =  \",absolute(-3)) # 3"
   ]
  },
  {
   "cell_type": "code",
   "execution_count": 13,
   "metadata": {},
   "outputs": [
    {
     "name": "stdout",
     "output_type": "stream",
     "text": [
      "|6|  =   6\n",
      "|-3| =   3\n"
     ]
    }
   ],
   "source": [
    "# using inbuilt function   abs()\n",
    "print(\"|6|  =  \",abs(6))  # 6\n",
    "print(\"|-3| =  \",abs(-3)) # 3"
   ]
  },
  {
   "cell_type": "markdown",
   "metadata": {},
   "source": [
    "---"
   ]
  },
  {
   "cell_type": "code",
   "execution_count": 14,
   "metadata": {},
   "outputs": [],
   "source": [
    "## check for even / odd number\n",
    "\n",
    "def chkOdd(num):\n",
    "    if num%2 == 0:\n",
    "        print(num, \"is Even\")\n",
    "    else:        \n",
    "        print(num, \"is Odd\")"
   ]
  },
  {
   "cell_type": "code",
   "execution_count": 15,
   "metadata": {},
   "outputs": [
    {
     "name": "stdout",
     "output_type": "stream",
     "text": [
      "2 is Even\n",
      "3 is Odd\n"
     ]
    }
   ],
   "source": [
    "chkOdd(2)\n",
    "chkOdd(3)"
   ]
  },
  {
   "cell_type": "markdown",
   "metadata": {},
   "source": [
    "---\n",
    "<br /><br /><br />"
   ]
  }
 ],
 "metadata": {
  "kernelspec": {
   "display_name": "Python 3",
   "language": "python",
   "name": "python3"
  },
  "language_info": {
   "codemirror_mode": {
    "name": "ipython",
    "version": 3
   },
   "file_extension": ".py",
   "mimetype": "text/x-python",
   "name": "python",
   "nbconvert_exporter": "python",
   "pygments_lexer": "ipython3",
   "version": "3.7.4"
  }
 },
 "nbformat": 4,
 "nbformat_minor": 2
}
